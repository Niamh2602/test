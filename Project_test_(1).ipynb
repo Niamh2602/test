{
  "nbformat": 4,
  "nbformat_minor": 0,
  "metadata": {
    "colab": {
      "name": "Project_test (1).ipynb",
      "provenance": [],
      "collapsed_sections": [],
      "authorship_tag": "ABX9TyNbOCSlHrktqYlcgsIE0Fan",
      "include_colab_link": true
    },
    "kernelspec": {
      "name": "python3",
      "display_name": "Python 3"
    },
    "language_info": {
      "name": "python"
    }
  },
  "cells": [
    {
      "cell_type": "markdown",
      "metadata": {
        "id": "view-in-github",
        "colab_type": "text"
      },
      "source": [
        "<a href=\"https://colab.research.google.com/github/Niamh2602/test/blob/main/Project_test_(1).ipynb\" target=\"_parent\"><img src=\"https://colab.research.google.com/assets/colab-badge.svg\" alt=\"Open In Colab\"/></a>"
      ]
    },
    {
      "cell_type": "code",
      "execution_count": 2,
      "metadata": {
        "colab": {
          "resources": {
            "http://localhost:8080/nbextensions/google.colab/files.js": {
              "data": "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",
              "ok": true,
              "headers": [
                [
                  "content-type",
                  "application/javascript"
                ]
              ],
              "status": 200,
              "status_text": ""
            }
          },
          "base_uri": "https://localhost:8080/",
          "height": 143
        },
        "id": "4q3tWbSdga2m",
        "outputId": "2cf41309-30cf-442c-9643-798690788c3c"
      },
      "outputs": [
        {
          "output_type": "display_data",
          "data": {
            "text/plain": [
              "<IPython.core.display.HTML object>"
            ],
            "text/html": [
              "\n",
              "     <input type=\"file\" id=\"files-04d3b7c4-7701-4b4f-a324-16e31012a971\" name=\"files[]\" multiple disabled\n",
              "        style=\"border:none\" />\n",
              "     <output id=\"result-04d3b7c4-7701-4b4f-a324-16e31012a971\">\n",
              "      Upload widget is only available when the cell has been executed in the\n",
              "      current browser session. Please rerun this cell to enable.\n",
              "      </output>\n",
              "      <script src=\"/nbextensions/google.colab/files.js\"></script> "
            ]
          },
          "metadata": {}
        },
        {
          "output_type": "stream",
          "name": "stdout",
          "text": [
            "Saving Accommodation.csv to Accommodation.csv\n",
            "Saving Activities.csv to Activities.csv\n",
            "Saving Attractions.csv to Attractions.csv\n"
          ]
        }
      ],
      "source": [
        "import numpy as np\n",
        "import matplotlib.pyplot as plt\n",
        "import seaborn as sns\n",
        "from google.colab import files\n",
        "import io\n",
        "import pandas as pd\n",
        "\n",
        "\n",
        "data = files.upload()"
      ]
    },
    {
      "cell_type": "code",
      "source": [
        "df_left = pd.read_csv('Accommodation.csv', header = 0, index_col= None)\n",
        "df_right = pd.read_csv('Activities.csv', header = 0, index_col= None)\n",
        "\n",
        "print(df_left)\n",
        "print(df_right)\n",
        "\n",
        "outer_merge = pd.merge(left=df_left, right=df_right, how='inner', left_on='AddressRegion', right_on='AddressRegion')\n",
        "\n",
        "print(outer_merge) "
      ],
      "metadata": {
        "colab": {
          "base_uri": "https://localhost:8080/"
        },
        "id": "k0xyegzI4pWu",
        "outputId": "85eafa8b-342f-41ba-c621-7d46a6d9f2a2"
      },
      "execution_count": 3,
      "outputs": [
        {
          "output_type": "stream",
          "name": "stdout",
          "text": [
            "                                  Name  \\\n",
            "0                         Bramble Rock   \n",
            "1                        The Davenport   \n",
            "2                       Townsend House   \n",
            "3                         River's Edge   \n",
            "4     Amber Springs Hotel & Health Spa   \n",
            "...                                ...   \n",
            "2768        The Red Door Country House   \n",
            "2769                   The Savoy Hotel   \n",
            "2770                  Dunmanus Cottage   \n",
            "2771           Travelodge Cork Airport   \n",
            "2772             Victoria Towers Hotel   \n",
            "\n",
            "                                               Url         Telephone  \\\n",
            "0                       http://www.bramblerock.com   +353(0)40445075   \n",
            "1     http://www.instagram.com/thedavenportdublin/   +353(0)16073500   \n",
            "2          http://www.townsendhouse-guesthouse.com  +353(0)579121276   \n",
            "3                         http://www.riversedge.ie        3.5367E+11   \n",
            "4                     https://www.ambersprings.ie/  +353(0)539484000   \n",
            "...                                            ...               ...   \n",
            "2768     https://www.facebook.com/TheRedDoorFahan/  +353(0)749360289   \n",
            "2769                 http://www.savoylimerick.com/   +353(0)61448700   \n",
            "2770                    https://dunmanuscottage.ie  +353(0)214381634   \n",
            "2771                      http://www.travelodge.ie  +353(0)214310722   \n",
            "2772          https://www.victoriahotelgalway.com/   +353(0)91567433   \n",
            "\n",
            "      Longitude   Latitude AddressRegion AddressLocality       AddressCountry  \\\n",
            "0     -6.291733  53.009756       Wicklow     Glendalough  Republic of Ireland   \n",
            "1     -6.250031  53.341665        Dublin     Dublin City  Republic of Ireland   \n",
            "2     -7.909500  53.098816        Offaly            Birr  Republic of Ireland   \n",
            "3     -9.783882  52.106485         Kerry      Killorglin              Ireland   \n",
            "4     -6.290339  52.668124       Wexford           Gorey  Republic of Ireland   \n",
            "...         ...        ...           ...             ...                  ...   \n",
            "2768  -7.466433  55.085032       Donegal       Inishowen  Republic of Ireland   \n",
            "2769  -8.629061  52.663152      Limerick   Limerick City  Republic of Ireland   \n",
            "2770  -9.542522  51.602650          Cork          Durrus  Republic of Ireland   \n",
            "2771  -8.470095  51.872450          Cork       Cork City  Republic of Ireland   \n",
            "2772  -9.047777  53.273056        Galway     Galway City  Republic of Ireland   \n",
            "\n",
            "                                                  Tags  \n",
            "0                                                  B&B  \n",
            "1                           Hotel,Covid Safety Charter  \n",
            "2                      Guesthouse,Covid Safety Charter  \n",
            "3                                      B&B,B&B Ireland  \n",
            "4            Hotel,Covid Safety Charter,Stay and Spend  \n",
            "...                                                ...  \n",
            "2768         B&B,Covid Safety Charter,Welcome Standard  \n",
            "2769                        Hotel,Covid Safety Charter  \n",
            "2770  Self Catering Accommodation,Covid Safety Charter  \n",
            "2771                        Hotel,Covid Safety Charter  \n",
            "2772                        Hotel,Covid Safety Charter  \n",
            "\n",
            "[2773 rows x 9 columns]\n",
            "                                        Name  \\\n",
            "0          The Restaurant at the Abbey Hotel   \n",
            "1                              Café Nutshell   \n",
            "2               Guided Walking Tour of Sligo   \n",
            "3                        The Italian Kitchen   \n",
            "4                    Brasserie on the Corner   \n",
            "...                                      ...   \n",
            "6313                          The Marine Bar   \n",
            "6314                 The West End Cliff Walk   \n",
            "6315  The Workhouse Famine & Heritage Centre   \n",
            "6316   Walking Hiking Tours - JAQUIER Lilian   \n",
            "6317                Youghal Clock Gate Tower   \n",
            "\n",
            "                                                    Url         Telephone  \\\n",
            "0           http://www.abbeyhotel.ie/food-and-wine.html      353907000000   \n",
            "1                https://www.facebook.com/cafenutshell/       35351422777   \n",
            "2                                                   NaN               NaN   \n",
            "3                           http://theitaliankitchen.ie   +353(0)18711255   \n",
            "4                           https://brasseriegalway.com       35391530333   \n",
            "...                                                 ...               ...   \n",
            "6313                                http://marinebar.ie      +35358462520   \n",
            "6314                                                NaN  +353(0)749121160   \n",
            "6315  http://www.dunfanaghy.info/places/The-Workhous...     +353749136540   \n",
            "6316  https://www.facebook.com/pages/Escapades-natur...  +353(0)857481764   \n",
            "6317                        https://youghalclockgate.ie       +3532420769   \n",
            "\n",
            "      Longitude   Latitude AddressRegion AddressLocality       AddressCountry  \\\n",
            "0     -8.193639  53.624876     Roscommon             NaN              Ireland   \n",
            "1     -6.944210  52.395136       Wexford        New Ross  Republic of Ireland   \n",
            "2     -8.477043  54.268771         Sligo      Sligo Town  Republic of Ireland   \n",
            "3     -6.218041  53.411898        Dublin      Clonshaugh              Ireland   \n",
            "4     -9.052901  53.274658        Galway             NaN              Ireland   \n",
            "...         ...        ...           ...             ...                  ...   \n",
            "6313  -7.659723  52.041345     Waterford            Ring  Republic of Ireland   \n",
            "6314  -8.274541  54.479625       Donegal        Bundoran  Republic of Ireland   \n",
            "6315  -7.976993  55.179878       Donegal      Dunfanaghy  Republic of Ireland   \n",
            "6316 -10.021117  53.489293        Galway         Clifden  Republic of Ireland   \n",
            "6317  -7.846767  51.952759          Cork         Youghal  Republic of Ireland   \n",
            "\n",
            "                                                   Tags  \n",
            "0                             Food and Drink,Restaurant  \n",
            "1     Covid Safety Charter,Food and Drink,Restaurant...  \n",
            "2                        Walking,Activity Operator,Tour  \n",
            "3                             Food and Drink,Restaurant  \n",
            "4        Covid Safety Charter,Food and Drink,Restaurant  \n",
            "...                                                 ...  \n",
            "6313             Food and Drink,Restaurant,Pubs and Bar  \n",
            "6314                                            Walking  \n",
            "6315         Museums and Attraction,Cafe,Food and Drink  \n",
            "6316                     Walking,Activity Operator,Tour  \n",
            "6317  Covid Safety Charter,Historic Houses and Castl...  \n",
            "\n",
            "[6318 rows x 9 columns]\n",
            "                 Name_x                          Url_x      Telephone_x  \\\n",
            "0          Bramble Rock     http://www.bramblerock.com  +353(0)40445075   \n",
            "1          Bramble Rock     http://www.bramblerock.com  +353(0)40445075   \n",
            "2          Bramble Rock     http://www.bramblerock.com  +353(0)40445075   \n",
            "3          Bramble Rock     http://www.bramblerock.com  +353(0)40445075   \n",
            "4          Bramble Rock     http://www.bramblerock.com  +353(0)40445075   \n",
            "...                 ...                            ...              ...   \n",
            "1207977  Laneside Haven  https://www.lanesidehaven.ie/      3.53861E+11   \n",
            "1207978  Laneside Haven  https://www.lanesidehaven.ie/      3.53861E+11   \n",
            "1207979  Laneside Haven  https://www.lanesidehaven.ie/      3.53861E+11   \n",
            "1207980  Laneside Haven  https://www.lanesidehaven.ie/      3.53861E+11   \n",
            "1207981  Laneside Haven  https://www.lanesidehaven.ie/      3.53861E+11   \n",
            "\n",
            "         Longitude_x  Latitude_x AddressRegion AddressLocality_x  \\\n",
            "0          -6.291733   53.009756       Wicklow       Glendalough   \n",
            "1          -6.291733   53.009756       Wicklow       Glendalough   \n",
            "2          -6.291733   53.009756       Wicklow       Glendalough   \n",
            "3          -6.291733   53.009756       Wicklow       Glendalough   \n",
            "4          -6.291733   53.009756       Wicklow       Glendalough   \n",
            "...              ...         ...           ...               ...   \n",
            "1207977    -6.786867   54.127072      Monaghan     Castleblayney   \n",
            "1207978    -6.786867   54.127072      Monaghan     Castleblayney   \n",
            "1207979    -6.786867   54.127072      Monaghan     Castleblayney   \n",
            "1207980    -6.786867   54.127072      Monaghan     Castleblayney   \n",
            "1207981    -6.786867   54.127072      Monaghan     Castleblayney   \n",
            "\n",
            "            AddressCountry_x  \\\n",
            "0        Republic of Ireland   \n",
            "1        Republic of Ireland   \n",
            "2        Republic of Ireland   \n",
            "3        Republic of Ireland   \n",
            "4        Republic of Ireland   \n",
            "...                      ...   \n",
            "1207977  Republic of Ireland   \n",
            "1207978  Republic of Ireland   \n",
            "1207979  Republic of Ireland   \n",
            "1207980  Republic of Ireland   \n",
            "1207981  Republic of Ireland   \n",
            "\n",
            "                                                    Tags_x  \\\n",
            "0                                                      B&B   \n",
            "1                                                      B&B   \n",
            "2                                                      B&B   \n",
            "3                                                      B&B   \n",
            "4                                                      B&B   \n",
            "...                                                    ...   \n",
            "1207977  Self Catering Accommodation,Covid Safety Chart...   \n",
            "1207978  Self Catering Accommodation,Covid Safety Chart...   \n",
            "1207979  Self Catering Accommodation,Covid Safety Chart...   \n",
            "1207980  Self Catering Accommodation,Covid Safety Chart...   \n",
            "1207981  Self Catering Accommodation,Covid Safety Chart...   \n",
            "\n",
            "                                      Name_y  \\\n",
            "0                               Shuttle Knit   \n",
            "1          Avondale Forest Park - Cairn Walk   \n",
            "2                        Victorian Tea Times   \n",
            "3                      Carol Smith Millinery   \n",
            "4                     St. Kevins Bus Service   \n",
            "...                                      ...   \n",
            "1207977       The Spa at the Hillgrove Hotel   \n",
            "1207978         Monaghan Town Heritage Trail   \n",
            "1207979  The Market House, Venue and Gallery   \n",
            "1207980   Ulster Canal Stores Visitor Centre   \n",
            "1207981          Carrickmacross Lace Gallery   \n",
            "\n",
            "                                                     Url_y      Telephone_y  \\\n",
            "0                                  https://shuttleknit.ie/      35340425641   \n",
            "1        http://www.irishtrails.ie/Trail/Avondale-Fores...              NaN   \n",
            "2                   https://facebook.com/victorianteatimes     353894000000   \n",
            "3                           https://www.carolsmithhats.com      35340443101   \n",
            "4                            http://www.glendaloughbus.com  +353(0)12818119   \n",
            "...                                                    ...              ...   \n",
            "1207977                 https://www.hillgrovehotel.com/spa      +3534772929   \n",
            "1207978  https://monaghantourism.com/listing/monaghan-t...              NaN   \n",
            "1207979                           http://monaghan.ie/arts/   +353(0)4738162   \n",
            "1207980         https://ulstercanalstoresvisitorcentre.ie/      +3534752125   \n",
            "1207981                 https://www.carrickmacrosslace.ie/    +353429664176   \n",
            "\n",
            "         Longitude_y  Latitude_y AddressLocality_y     AddressCountry_y  \\\n",
            "0          -6.035937   52.977195               NaN              Ireland   \n",
            "1          -6.227024   52.916711          Rathdrum              Ireland   \n",
            "2          -6.153070   52.798129            Arklow  Republic of Ireland   \n",
            "3          -6.224878   52.972052          Rathdrum              Ireland   \n",
            "4          -6.225996   53.065661         Roundwood  Republic of Ireland   \n",
            "...              ...         ...               ...                  ...   \n",
            "1207977    -6.955649   54.246167     Monaghan Town  Republic of Ireland   \n",
            "1207978    -6.968347   54.249081     Monaghan Town  Republic of Ireland   \n",
            "1207979    -6.972322   54.247492     Monaghan Town  Republic of Ireland   \n",
            "1207980    -7.236207   54.175851            Clones  Republic of Ireland   \n",
            "1207981    -6.719006   53.977754    Carrickmacross  Republic of Ireland   \n",
            "\n",
            "                                                    Tags_y  \n",
            "0        Craft,Shopping,Shopping Centres and Department...  \n",
            "1                 Walking,Forest Park,Park and Forest Walk  \n",
            "2                                Food and Drink,Restaurant  \n",
            "3        Craft,Shopping,Learning,Activity Operator,Food...  \n",
            "4                                     Transport,Coach,Road  \n",
            "...                                                    ...  \n",
            "1207977  Pampering,Health Farm,Spa and Wellness,Special...  \n",
            "1207978                                            Walking  \n",
            "1207979                                                NaN  \n",
            "1207980  Covid Safety Charter,Craft,Shopping,Historic H...  \n",
            "1207981  Covid Safety Charter,Craft,Shopping,Shopping C...  \n",
            "\n",
            "[1207982 rows x 17 columns]\n"
          ]
        }
      ]
    },
    {
      "cell_type": "code",
      "source": [
        "df_other = pd.read_csv('Attractions.csv', header = 0, index_col= None)\n",
        "other_merge = pd.merge(left=outer_merge, right=df_other, how='inner', left_on='AddressRegion', right_on='AddressRegion')\n",
        "\n",
        "print(other_merge)"
      ],
      "metadata": {
        "id": "sAeDuR0soEXm"
      },
      "execution_count": null,
      "outputs": []
    },
    {
      "cell_type": "code",
      "source": [
        ""
      ],
      "metadata": {
        "id": "LTO3pP-in9z-"
      },
      "execution_count": null,
      "outputs": []
    }
  ]
}